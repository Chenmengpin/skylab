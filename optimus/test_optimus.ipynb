{
 "cells": [
  {
   "cell_type": "markdown",
   "metadata": {
    "deletable": true,
    "editable": true
   },
   "source": [
    "## Load Libraries"
   ]
  },
  {
   "cell_type": "code",
   "execution_count": 9,
   "metadata": {
    "collapsed": true,
    "deletable": true,
    "editable": true
   },
   "outputs": [],
   "source": [
    "import json\n",
    "import os\n",
    "from google.cloud import storage\n",
    "import cromwell_manager as cwm\n",
    "\n",
    "with open(os.path.expanduser('~/.ssh/mint_cromwell_config.json')) as f:\n",
    "    cromwell_server = cwm.Cromwell(**json.load(f))\n",
    "\n",
    "storage_client = storage.Client(project='broad-dsde-mint-dev')"
   ]
  },
  {
   "cell_type": "markdown",
   "metadata": {
    "deletable": true,
    "editable": true
   },
   "source": [
    "## Define Testing Inputs"
   ]
  },
  {
   "cell_type": "code",
   "execution_count": 10,
   "metadata": {
    "collapsed": false,
    "deletable": true,
    "editable": true
   },
   "outputs": [],
   "source": [
    "os.environ['wdltool'] = '/Users/carra1/google_drive/software/wdltool-0.14.jar'"
   ]
  },
  {
   "cell_type": "code",
   "execution_count": 193,
   "metadata": {
    "collapsed": true,
    "deletable": true,
    "editable": true
   },
   "outputs": [],
   "source": [
    "inputs_json = {\n",
    "    \"Optimus.fastq_inputs\": [\n",
    "        [\"gs://broad-dsde-mint-dev-teststorage/10x/demo/fastqs/pbmc8k_S1_L007_R1_001.fastq.gz\", \n",
    "         \"gs://broad-dsde-mint-dev-teststorage/10x/demo/fastqs/pbmc8k_S1_L007_R2_001.fastq.gz\",\n",
    "         \"gs://broad-dsde-mint-dev-teststorage/10x/demo/fastqs/pbmc8k_S1_L007_I1_001.fastq.gz\"],\n",
    "        [\"gs://broad-dsde-mint-dev-teststorage/10x/demo/fastqs/pbmc8k_S1_L007_R1_001.fastq.gz\", \n",
    "         \"gs://broad-dsde-mint-dev-teststorage/10x/demo/fastqs/pbmc8k_S1_L007_R2_001.fastq.gz\",\n",
    "         \"gs://broad-dsde-mint-dev-teststorage/10x/demo/fastqs/pbmc8k_S1_L007_I1_001.fastq.gz\"],\n",
    "    ],\n",
    "    \"Optimus.whitelist\": \"gs://broad-dsde-mint-dev-teststorage/10x/whitelist/737K-august-2016.txt\",\n",
    "    \"Optimus.tar_star_reference\": \"gs://broad-dsde-mint-dev-teststorage/demo/star.tar\",\n",
    "    \"Optimus.sample_name\": \"pbmc8k_test\",\n",
    "    \"Optimus.annotations_gtf\": \"gs://broad-dsde-mint-dev-teststorage/reference/hg19_ds/GSM1629193_hg19_ERCC.gtf.gz\",  # \"gs://broad-dsde-mint-dev-teststorage/demo/gencodev19_chr21.gtf\",\n",
    "    \"Optimus.ref_genome_fasta\": \"gs://broad-dsde-mint-dev-teststorage/demo/chr21.fa\"\n",
    "}\n",
    "\n",
    "dependencies_json = {\n",
    "    \"StarAlignBamSingleEnd.wdl\": \"../pipelines/tasks/StarAlignBamSingleEnd.wdl\",\n",
    "    \"FastqToUBam.wdl\": \"../pipelines/tasks/FastqToUBam.wdl\",\n",
    "    \"Attach10xBarcodes.wdl\": \"../pipelines/tasks/Attach10xBarcodes.wdl\",\n",
    "    \"SplitBamByCellBarcode.wdl\": \"../pipelines/tasks/SplitBamByCellBarcode.wdl\",\n",
    "    \"TagGeneExon.wdl\": \"../pipelines/tasks/TagGeneExon.wdl\",\n",
    "    \"CorrectUmiMarkDuplicates.wdl\": \"../pipelines/tasks/CorrectUmiMarkDuplicates.wdl\",\n",
    "    \"CollectMultiplePicardMetrics.wdl\": \"../pipelines/tasks/CollectMultiplePicardMetrics.wdl\",\n",
    "    \"MergeBam.wdl\": \"../pipelines/tasks/MergeBam.wdl\",\n",
    "    \"CreateCountMatrix.wdl\": \"../pipelines/tasks/CreateCountMatrix.wdl\",\n",
    "    \"AlignTagCorrectUmis.wdl\": \"AlignTagCorrectUmis.wdl\"\n",
    "}\n",
    "\n",
    "wdl = \"Optimus.wdl\""
   ]
  },
  {
   "cell_type": "code",
   "execution_count": 209,
   "metadata": {
    "collapsed": false,
    "deletable": true,
    "editable": true
   },
   "outputs": [],
   "source": [
    "with open('example_test_inputs.json', 'w') as f:\n",
    "    json.dump(inputs_json, f)"
   ]
  },
  {
   "cell_type": "markdown",
   "metadata": {
    "deletable": true,
    "editable": true
   },
   "source": [
    "## Validate & Run WDL"
   ]
  },
  {
   "cell_type": "code",
   "execution_count": 182,
   "metadata": {
    "collapsed": false,
    "deletable": true,
    "editable": true
   },
   "outputs": [
    {
     "name": "stdout",
     "output_type": "stream",
     "text": [
      "CWM:2017-11-25 17:59:00.878349:creating temporary directory\n",
      "CWM:2017-11-25 17:59:00.878811:writing dependencies\n",
      "CWM:2017-11-25 17:59:00.893109:writing wdl\n",
      "CWM:2017-11-25 17:59:00.894301:running wdltool validate\n",
      "CWM:2017-11-25 17:59:02.271670:validation successful\n",
      "CWM:2017-11-25 17:59:04.194289:checking docker image humancellatlas/dropseqtools:1.12... OK.\n",
      "CWM:2017-11-25 17:59:04.770922:checking docker image humancellatlas/samtools:1.3.1... OK.\n",
      "CWM:2017-11-25 17:59:08.127880:checking docker image humancellatlas/picard:2.10.10... OK.\n",
      "CWM:2017-11-25 17:59:20.352495:checking docker image humancellatlas/star:2.5.3a-40ead6e... OK.\n",
      "CWM:2017-11-25 17:59:21.269367:checking docker image humancellatlas/python3-scientific:0.1.3... OK.\n"
     ]
    }
   ],
   "source": [
    "cwm.Workflow.validate(\n",
    "    wdl=wdl,\n",
    "    inputs_json=inputs_json,\n",
    "    storage_client=storage_client,\n",
    "    workflow_dependencies=dependencies_json,\n",
    "    cromwell_server=cromwell_server\n",
    ")"
   ]
  },
  {
   "cell_type": "code",
   "execution_count": 177,
   "metadata": {
    "collapsed": true,
    "deletable": true,
    "editable": true
   },
   "outputs": [],
   "source": [
    "wf = cwm.Workflow.from_submission(\n",
    "    wdl=wdl,\n",
    "    inputs_json=inputs_json,\n",
    "    storage_client=storage_client,\n",
    "    workflow_dependencies=dependencies_json,\n",
    "    cromwell_server=cromwell_server\n",
    ")"
   ]
  },
  {
   "cell_type": "markdown",
   "metadata": {},
   "source": [
    "Display the status and the completed run ID"
   ]
  },
  {
   "cell_type": "code",
   "execution_count": 178,
   "metadata": {
    "collapsed": false,
    "deletable": true,
    "editable": true
   },
   "outputs": [
    {
     "data": {
      "text/plain": [
       "{'id': 'c98322d7-406d-4e3f-96c8-e2bd1429e645', 'status': 'Succeeded'}"
      ]
     },
     "execution_count": 178,
     "metadata": {},
     "output_type": "execute_result"
    }
   ],
   "source": [
    "wf.status"
   ]
  },
  {
   "cell_type": "markdown",
   "metadata": {},
   "source": [
    "Display the outputs of the rMVP"
   ]
  },
  {
   "cell_type": "code",
   "execution_count": 180,
   "metadata": {
    "collapsed": false
   },
   "outputs": [
    {
     "data": {
      "text/plain": [
       "{'id': 'c98322d7-406d-4e3f-96c8-e2bd1429e645',\n",
       " 'outputs': {'Optimus.bam': 'gs://broad-dsde-mint-dev-cromwell-execution/cromwell-executions/Optimus/c98322d7-406d-4e3f-96c8-e2bd1429e645/call-MergeBam/out.bam',\n",
       "  'Optimus.duplicate_metrics': [['gs://broad-dsde-mint-dev-cromwell-execution/cromwell-executions/Optimus/c98322d7-406d-4e3f-96c8-e2bd1429e645/call-AlignTagCorrectUmis/shard-0/AlignTagCorrectUmis/d250b98d-a2f0-4b19-be86-e347bd076a5f/call-CorrectUmiMarkDuplicates/shard-0/duplicate_metrics.txt']],\n",
       "  'Optimus.matrix': 'gs://broad-dsde-mint-dev-cromwell-execution/cromwell-executions/Optimus/c98322d7-406d-4e3f-96c8-e2bd1429e645/call-DropSeqToolsDigitalExpression/digital_expression.txt.gz',\n",
       "  'Optimus.matrix_summary': 'gs://broad-dsde-mint-dev-cromwell-execution/cromwell-executions/Optimus/c98322d7-406d-4e3f-96c8-e2bd1429e645/call-DropSeqToolsDigitalExpression/digital_expression_summary.txt',\n",
       "  'Optimus.picard_metrics': 'gs://broad-dsde-mint-dev-cromwell-execution/cromwell-executions/Optimus/c98322d7-406d-4e3f-96c8-e2bd1429e645/call-CollectMultipleMetrics/pbmc8k_test.tar.gz',\n",
       "  'Optimus.tag_gene_exon_log': [['gs://broad-dsde-mint-dev-cromwell-execution/cromwell-executions/Optimus/c98322d7-406d-4e3f-96c8-e2bd1429e645/call-AlignTagCorrectUmis/shard-0/AlignTagCorrectUmis/d250b98d-a2f0-4b19-be86-e347bd076a5f/call-TagGeneExon/shard-0/gene_exon_tag_summary.log']],\n",
       "  'Optimus.umi_metrics': [['gs://broad-dsde-mint-dev-cromwell-execution/cromwell-executions/Optimus/c98322d7-406d-4e3f-96c8-e2bd1429e645/call-AlignTagCorrectUmis/shard-0/AlignTagCorrectUmis/d250b98d-a2f0-4b19-be86-e347bd076a5f/call-CorrectUmiMarkDuplicates/shard-0/umi_metrics.txt']]}}"
      ]
     },
     "execution_count": 180,
     "metadata": {},
     "output_type": "execute_result"
    }
   ],
   "source": [
    "wf.outputs"
   ]
  },
  {
   "cell_type": "code",
   "execution_count": 210,
   "metadata": {
    "collapsed": false,
    "deletable": true,
    "editable": true
   },
   "outputs": [],
   "source": [
    "with open('example_test_outputs.json', 'w') as f:\n",
    "    json.dump(wf.outputs, f)"
   ]
  },
  {
   "cell_type": "markdown",
   "metadata": {},
   "source": [
    "Open up the completed timing graph and the complete run metadata"
   ]
  },
  {
   "cell_type": "code",
   "execution_count": 213,
   "metadata": {
    "collapsed": false
   },
   "outputs": [
    {
     "data": {
      "text/plain": [
       "<Response [200]>"
      ]
     },
     "execution_count": 213,
     "metadata": {},
     "output_type": "execute_result"
    }
   ],
   "source": [
    "wf.timing()\n",
    "cromwell_server.metadata(wf.id, open_browser=True)"
   ]
  },
  {
   "cell_type": "markdown",
   "metadata": {},
   "source": [
    "## Test at Scale"
   ]
  },
  {
   "cell_type": "code",
   "execution_count": 199,
   "metadata": {
    "collapsed": false
   },
   "outputs": [
    {
     "name": "stdout",
     "output_type": "stream",
     "text": [
      "gs://broad-dsde-mint-dev-teststorage/10x/pbmc8k/fastqs/metadata.json\r\n",
      "gs://broad-dsde-mint-dev-teststorage/10x/pbmc8k/fastqs/pbmc8k_S1_L007_I1_001.fastq.gz\r\n",
      "gs://broad-dsde-mint-dev-teststorage/10x/pbmc8k/fastqs/pbmc8k_S1_L007_R1_001.fastq.gz\r\n",
      "gs://broad-dsde-mint-dev-teststorage/10x/pbmc8k/fastqs/pbmc8k_S1_L007_R2_001.fastq.gz\r\n",
      "gs://broad-dsde-mint-dev-teststorage/10x/pbmc8k/fastqs/pbmc8k_S1_L008_I1_001.fastq.gz\r\n",
      "gs://broad-dsde-mint-dev-teststorage/10x/pbmc8k/fastqs/pbmc8k_S1_L008_R1_001.fastq.gz\r\n",
      "gs://broad-dsde-mint-dev-teststorage/10x/pbmc8k/fastqs/pbmc8k_S1_L008_R2_001.fastq.gz\r\n"
     ]
    }
   ],
   "source": [
    "!gsutil ls gs://broad-dsde-mint-dev-teststorage/10x/pbmc8k/fastqs/"
   ]
  },
  {
   "cell_type": "code",
   "execution_count": 200,
   "metadata": {
    "collapsed": true
   },
   "outputs": [],
   "source": [
    "scale_inputs_json = {\n",
    "    \"Optimus.fastq_inputs\": [\n",
    "        [\"gs://broad-dsde-mint-dev-teststorage/10x/pbmc8k/fastqs/pbmc8k_S1_L007_R1_001.fastq.gz\", \n",
    "         \"gs://broad-dsde-mint-dev-teststorage/10x/pbmc8k/fastqs/pbmc8k_S1_L007_R2_001.fastq.gz\",\n",
    "         \"gs://broad-dsde-mint-dev-teststorage/10x/pbmc8k/fastqs/pbmc8k_S1_L007_I1_001.fastq.gz\"],\n",
    "        [\"gs://broad-dsde-mint-dev-teststorage/10x/pbmc8k/fastqs/pbmc8k_S1_L008_R1_001.fastq.gz\", \n",
    "         \"gs://broad-dsde-mint-dev-teststorage/10x/pbmc8k/fastqs/pbmc8k_S1_L008_R2_001.fastq.gz\",\n",
    "         \"gs://broad-dsde-mint-dev-teststorage/10x/pbmc8k/fastqs/pbmc8k_S1_L008_I1_001.fastq.gz\"],\n",
    "    ],\n",
    "    \"Optimus.whitelist\": \"gs://broad-dsde-mint-dev-teststorage/10x/whitelist/737K-august-2016.txt\",\n",
    "    \"Optimus.tar_star_reference\": \"gs://broad-dsde-mint-dev-teststorage/reference/Hg19_kco/star_hg19_gencode_v19.tar\",\n",
    "    \"Optimus.sample_name\": \"pbmc8k_optimus_test\",\n",
    "    \"Optimus.annotations_gtf\": \"gs://broad-dsde-mint-dev-teststorage/reference/hg19_ds/GSM1629193_hg19_ERCC.gtf.gz\",  # \"gs://broad-dsde-mint-dev-teststorage/demo/gencodev19_chr21.gtf\",\n",
    "    \"Optimus.ref_genome_fasta\": \"gs://broad-dsde-mint-dev-teststorage/reference/Hg19_kco/Hg19.fa\",\n",
    "}"
   ]
  },
  {
   "cell_type": "code",
   "execution_count": 207,
   "metadata": {
    "collapsed": true,
    "deletable": true,
    "editable": true
   },
   "outputs": [],
   "source": [
    "scale_wf = cwm.Workflow.from_submission(\n",
    "    wdl=wdl,\n",
    "    inputs_json=scale_inputs_json,\n",
    "    storage_client=storage_client,\n",
    "    workflow_dependencies=dependencies_json,\n",
    "    cromwell_server=cromwell_server\n",
    ")"
   ]
  },
  {
   "cell_type": "code",
   "execution_count": 202,
   "metadata": {
    "collapsed": false
   },
   "outputs": [
    {
     "data": {
      "text/plain": [
       "{'id': '7533b502-34ba-4175-832b-d7031e694248', 'status': 'Running'}"
      ]
     },
     "execution_count": 202,
     "metadata": {},
     "output_type": "execute_result"
    }
   ],
   "source": [
    "scale_wf.status"
   ]
  },
  {
   "cell_type": "code",
   "execution_count": 214,
   "metadata": {
    "collapsed": false,
    "deletable": true,
    "editable": true
   },
   "outputs": [
    {
     "data": {
      "text/plain": [
       "<Response [200]>"
      ]
     },
     "execution_count": 214,
     "metadata": {},
     "output_type": "execute_result"
    }
   ],
   "source": [
    "scale_wf.timing()\n",
    "cromwell_server.metadata(scale_wf.id, open_browser=True)"
   ]
  },
  {
   "cell_type": "code",
   "execution_count": null,
   "metadata": {
    "collapsed": true
   },
   "outputs": [],
   "source": []
  }
 ],
 "metadata": {
  "hide_input": false,
  "kernelspec": {
   "display_name": "Python 3",
   "language": "python",
   "name": "python3"
  },
  "language_info": {
   "codemirror_mode": {
    "name": "ipython",
    "version": 3
   },
   "file_extension": ".py",
   "mimetype": "text/x-python",
   "name": "python",
   "nbconvert_exporter": "python",
   "pygments_lexer": "ipython3",
   "version": "3.6.0"
  },
  "nav_menu": {},
  "toc": {
   "nav_menu": {},
   "number_sections": true,
   "sideBar": true,
   "skip_h1_title": false,
   "toc_cell": false,
   "toc_position": {},
   "toc_section_display": "block",
   "toc_window_display": false
  }
 },
 "nbformat": 4,
 "nbformat_minor": 2
}
